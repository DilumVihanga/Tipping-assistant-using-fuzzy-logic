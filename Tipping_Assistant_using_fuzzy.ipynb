{
  "cells": [
    {
      "cell_type": "code",
      "execution_count": null,
      "metadata": {
        "colab": {
          "background_save": true,
          "base_uri": "https://localhost:8080/"
        },
        "id": "nXM2C36W0Ho7",
        "outputId": "e52faa0f-fb9a-431c-b5e9-b5dc0b12f08f"
      },
      "outputs": [
        {
          "name": "stdout",
          "output_type": "stream",
          "text": [
            "Looking in indexes: https://pypi.org/simple, https://us-python.pkg.dev/colab-wheels/public/simple/\n",
            "Requirement already satisfied: scikit-fuzzy in /usr/local/lib/python3.8/dist-packages (0.4.2)\n",
            "Requirement already satisfied: scipy>=0.9.0 in /usr/local/lib/python3.8/dist-packages (from scikit-fuzzy) (1.7.3)\n",
            "Requirement already satisfied: networkx>=1.9.0 in /usr/local/lib/python3.8/dist-packages (from scikit-fuzzy) (3.0)\n",
            "Requirement already satisfied: numpy>=1.6.0 in /usr/local/lib/python3.8/dist-packages (from scikit-fuzzy) (1.21.6)\n"
          ]
        }
      ],
      "source": [
        "# Install scikit-fuzzy\n",
        "!pip install -U scikit-fuzzy\n",
        "\n",
        "# Import required libraries\n",
        "import numpy as np\n",
        "import skfuzzy as fuzz\n",
        "from skfuzzy import control as ctrl\n",
        "\n",
        "# Define the input variables\n",
        "quality = ctrl.Antecedent(np.arange(0, 11, 1), 'quality')\n",
        "service = ctrl.Antecedent(np.arange(0, 11, 1), 'service')\n",
        "tip = ctrl.Consequent(np.arange(0, 26, 1), 'tip')\n",
        "\n",
        "# Define the membership functions for the input variables\n",
        "quality['poor'] = fuzz.trimf(quality.universe, [0, 0, 5])\n",
        "quality['average'] = fuzz.trimf(quality.universe, [0, 5, 10])\n",
        "quality['good'] = fuzz.trimf(quality.universe, [5, 10, 10])\n",
        "\n",
        "service['poor'] = fuzz.trimf(service.universe, [0, 0, 5])\n",
        "service['average'] = fuzz.trimf(service.universe, [0, 5, 10])\n",
        "service['good'] = fuzz.trimf(service.universe, [5, 10, 10])\n",
        "\n",
        "tip['low'] = fuzz.trimf(tip.universe, [0, 0, 13])\n",
        "tip['medium'] = fuzz.trimf(tip.universe, [0, 13, 25])\n",
        "tip['high'] = fuzz.trimf(tip.universe, [13, 25, 25])\n",
        "\n",
        "# Define the fuzzy rules\n",
        "rule1 = ctrl.Rule(quality['poor'] | service['poor'], tip['low'])\n",
        "rule2 = ctrl.Rule(quality['average'], tip['medium'])\n",
        "rule3 = ctrl.Rule(quality['good'] | service['good'], tip['high'])\n",
        "\n",
        "# Create the fuzzy control system\n",
        "tipping_ctrl = ctrl.ControlSystem([rule1, rule2, rule3])\n",
        "tipping = ctrl.ControlSystemSimulation(tipping_ctrl)\n",
        "\n",
        "# Prompt the user to input values for quality and service\n",
        "quality_input = float(input(\"Enter the quality rating (0-10): \"))\n",
        "service_input = float(input(\"Enter the service rating (0-10): \"))\n",
        "\n",
        "# Set the input values\n",
        "tipping.input['quality'] = quality_input\n",
        "tipping.input['service'] = service_input\n",
        "\n",
        "# Evaluate the fuzzy system\n",
        "tipping.compute()\n",
        "\n",
        "# Print the output value (the recommended tip percentage)\n",
        "print(f\"Recommended tip percentage: {tipping.output['tip']:.2f}%\")"
      ]
    }
  ],
  "metadata": {
    "colab": {
      "provenance": []
    },
    "kernelspec": {
      "display_name": "Python 3",
      "name": "python3"
    },
    "language_info": {
      "name": "python"
    }
  },
  "nbformat": 4,
  "nbformat_minor": 0
}